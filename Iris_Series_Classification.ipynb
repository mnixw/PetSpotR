{
  "nbformat": 4,
  "nbformat_minor": 0,
  "metadata": {
    "colab": {
      "provenance": [],
      "authorship_tag": "ABX9TyO0zUeeyYm6UcLRQZvMuPV8",
      "include_colab_link": true
    },
    "kernelspec": {
      "name": "python3",
      "display_name": "Python 3"
    },
    "language_info": {
      "name": "python"
    }
  },
  "cells": [
    {
      "cell_type": "markdown",
      "metadata": {
        "id": "view-in-github",
        "colab_type": "text"
      },
      "source": [
        "<a href=\"https://colab.research.google.com/github/mnixw/PetSpotR/blob/main/Iris_Series_Classification.ipynb\" target=\"_parent\"><img src=\"https://colab.research.google.com/assets/colab-badge.svg\" alt=\"Open In Colab\"/></a>"
      ]
    },
    {
      "cell_type": "code",
      "execution_count": 2,
      "metadata": {
        "colab": {
          "base_uri": "https://localhost:8080/"
        },
        "id": "dv6RzWC1K7Fi",
        "outputId": "405afe0d-f299-42a6-b96d-d0cf7e21af21"
      },
      "outputs": [
        {
          "output_type": "stream",
          "name": "stdout",
          "text": [
            "\u001b[2K     \u001b[90m━━━━━━━━━━━━━━━━━━━━━━━━━━━━━━━━━━━━━━━━\u001b[0m \u001b[32m475.2/475.2 MB\u001b[0m \u001b[31m3.2 MB/s\u001b[0m eta \u001b[36m0:00:00\u001b[0m\n",
            "\u001b[2K     \u001b[90m━━━━━━━━━━━━━━━━━━━━━━━━━━━━━━━━━━━━━━━━\u001b[0m \u001b[32m5.5/5.5 MB\u001b[0m \u001b[31m83.7 MB/s\u001b[0m eta \u001b[36m0:00:00\u001b[0m\n",
            "\u001b[2K     \u001b[90m━━━━━━━━━━━━━━━━━━━━━━━━━━━━━━━━━━━━━━━━\u001b[0m \u001b[32m442.0/442.0 kB\u001b[0m \u001b[31m40.4 MB/s\u001b[0m eta \u001b[36m0:00:00\u001b[0m\n",
            "\u001b[2K     \u001b[90m━━━━━━━━━━━━━━━━━━━━━━━━━━━━━━━━━━━━━━━━\u001b[0m \u001b[32m1.7/1.7 MB\u001b[0m \u001b[31m78.3 MB/s\u001b[0m eta \u001b[36m0:00:00\u001b[0m\n",
            "\u001b[?25h2.14.0\n"
          ]
        }
      ],
      "source": [
        "# Install Tensorflow 2.0:\n",
        "!pip install -q tensorflow==2.15.0rc1\n",
        "\n",
        "# And verify that it is now in its latest version:\n",
        "import tensorflow as tf\n",
        "print(tf.__version__)"
      ]
    },
    {
      "cell_type": "code",
      "source": [
        "# Importing dataset from scikit-learn and other useful packages:\n",
        "from sklearn.model_selection import train_test_split\n",
        "from sklearn.datasets import load_iris\n",
        "import matplotlib.pyplot as plt\n",
        "import numpy as np\n",
        "\n",
        "# Fix a random seed for reproducibility:\n",
        "seed = 11\n",
        "np.random.seed(seed)"
      ],
      "metadata": {
        "id": "71EYSqVQQTY0"
      },
      "execution_count": 3,
      "outputs": []
    },
    {
      "cell_type": "code",
      "source": [
        "# Import the Iris dataset:\n",
        "iris = load_iris()\n",
        "\n",
        "#  Set the features and labels vectors:\n",
        "x = iris.data # Set x as 'data' from iris\n",
        "y = iris.target # Set y as 'target' from iris\n",
        "\n",
        "names = iris.target_names # Set names as 'target_names' from iris\n",
        "feature_names = iris.feature_names # Set feature_names as 'feature_names' from iris\n",
        "\n",
        "# Match target data with species name\n",
        "species_names = [names[target] for target in y]\n",
        "\n",
        "# Load some elements to verify the contents in the dataset:\n",
        "elements_to_display = [0,50,100]\n",
        "for element in elements_to_display:\n",
        "    print(f\"Element {element}th:\")\n",
        "    print(f\"  - Features: {x[element]}\")\n",
        "    print(f\"  - Target: {y[element]}\")\n",
        "    print(f\"  - Species: {species_names[element]}\")\n",
        "    print()"
      ],
      "metadata": {
        "colab": {
          "base_uri": "https://localhost:8080/"
        },
        "id": "616d1EMVRN0X",
        "outputId": "b9cca3e2-2177-4174-e5e7-06601b038fbc"
      },
      "execution_count": 17,
      "outputs": [
        {
          "output_type": "stream",
          "name": "stdout",
          "text": [
            "Element 0th:\n",
            "  - Features: [5.1 3.5 1.4 0.2]\n",
            "  - Target: 0\n",
            "  - Species: setosa\n",
            "\n",
            "Element 50th:\n",
            "  - Features: [7.  3.2 4.7 1.4]\n",
            "  - Target: 1\n",
            "  - Species: versicolor\n",
            "\n",
            "Element 100th:\n",
            "  - Features: [6.3 3.3 6.  2.5]\n",
            "  - Target: 2\n",
            "  - Species: virginica\n",
            "\n"
          ]
        }
      ]
    },
    {
      "cell_type": "code",
      "source": [
        "from tensorflow import keras"
      ],
      "metadata": {
        "id": "ePcIMPqzeOl8"
      },
      "execution_count": 18,
      "outputs": []
    },
    {
      "cell_type": "code",
      "source": [
        "# One hot encode outputs:\n",
        "y = keras.utils.to_categorical(y)"
      ],
      "metadata": {
        "id": "-PxoqKA5vaEa"
      },
      "execution_count": 20,
      "outputs": []
    },
    {
      "cell_type": "code",
      "source": [
        "# Set global variables:\n",
        "n_features = len(feature_names)\n",
        "n_classes = names.shape[0]"
      ],
      "metadata": {
        "id": "Mk2JaDI4vfRB"
      },
      "execution_count": 22,
      "outputs": []
    },
    {
      "cell_type": "code",
      "source": [
        "# Let's checkout changes:\n",
        "for element in elements_to_display:\n",
        "    print(f\"Element {element}th:\")\n",
        "    print(f\"  - Features: {x[element]}\")\n",
        "    print(f\"  - Target: {y[element]}\")\n",
        "    print(f\"  - Species: {species_names[element]}\")\n",
        "    print()"
      ],
      "metadata": {
        "colab": {
          "base_uri": "https://localhost:8080/"
        },
        "id": "mfSQNM0Yvh0S",
        "outputId": "da3bf7f0-25cd-4bc0-e282-ba8d5234a15c"
      },
      "execution_count": 26,
      "outputs": [
        {
          "output_type": "stream",
          "name": "stdout",
          "text": [
            "Element 0th:\n",
            "  - Features: [5.1 3.5 1.4 0.2]\n",
            "  - Target: [1. 0. 0.]\n",
            "  - Species: setosa\n",
            "\n",
            "Element 50th:\n",
            "  - Features: [7.  3.2 4.7 1.4]\n",
            "  - Target: [0. 1. 0.]\n",
            "  - Species: versicolor\n",
            "\n",
            "Element 100th:\n",
            "  - Features: [6.3 3.3 6.  2.5]\n",
            "  - Target: [0. 0. 1.]\n",
            "  - Species: virginica\n",
            "\n"
          ]
        }
      ]
    },
    {
      "cell_type": "code",
      "source": [
        "# Split the data set into training and testing sets:\n",
        "x_train, x_test, y_train, y_test = train_test_split(x, y,\n",
        "                                                    test_size=0.3,\n",
        "                                                    random_state=seed)"
      ],
      "metadata": {
        "id": "iIK2XZjWwZZi"
      },
      "execution_count": 27,
      "outputs": []
    },
    {
      "cell_type": "code",
      "source": [
        "y_test"
      ],
      "metadata": {
        "colab": {
          "base_uri": "https://localhost:8080/"
        },
        "id": "82z2SxsXyaQ3",
        "outputId": "500f1414-409a-4667-d45d-f00619f46736"
      },
      "execution_count": 32,
      "outputs": [
        {
          "output_type": "execute_result",
          "data": {
            "text/plain": [
              "array([[0., 0., 1.],\n",
              "       [0., 0., 1.],\n",
              "       [0., 0., 1.],\n",
              "       [0., 1., 0.],\n",
              "       [0., 0., 1.],\n",
              "       [1., 0., 0.],\n",
              "       [0., 1., 0.],\n",
              "       [1., 0., 0.],\n",
              "       [1., 0., 0.],\n",
              "       [0., 1., 0.],\n",
              "       [0., 0., 1.],\n",
              "       [0., 1., 0.],\n",
              "       [0., 1., 0.],\n",
              "       [0., 0., 1.],\n",
              "       [0., 0., 1.],\n",
              "       [1., 0., 0.],\n",
              "       [0., 0., 1.],\n",
              "       [0., 1., 0.],\n",
              "       [0., 0., 1.],\n",
              "       [0., 0., 1.],\n",
              "       [0., 1., 0.],\n",
              "       [1., 0., 0.],\n",
              "       [1., 0., 0.],\n",
              "       [0., 1., 0.],\n",
              "       [1., 0., 0.],\n",
              "       [1., 0., 0.],\n",
              "       [0., 0., 1.],\n",
              "       [0., 1., 0.],\n",
              "       [1., 0., 0.],\n",
              "       [0., 1., 0.],\n",
              "       [1., 0., 0.],\n",
              "       [0., 0., 1.],\n",
              "       [0., 0., 1.],\n",
              "       [1., 0., 0.],\n",
              "       [1., 0., 0.],\n",
              "       [0., 0., 1.],\n",
              "       [0., 0., 1.],\n",
              "       [0., 1., 0.],\n",
              "       [1., 0., 0.],\n",
              "       [0., 1., 0.],\n",
              "       [0., 1., 0.],\n",
              "       [0., 0., 1.],\n",
              "       [1., 0., 0.],\n",
              "       [0., 1., 0.],\n",
              "       [0., 0., 1.]], dtype=float32)"
            ]
          },
          "metadata": {},
          "execution_count": 32
        }
      ]
    },
    {
      "cell_type": "code",
      "source": [
        "# Let's import our Keras stuff:\n",
        "from tensorflow.keras.layers import Dense\n",
        "from tensorflow.keras.models import Sequential\n",
        "\n",
        "def iris_model(input_dim, output_dim, init_nodes=4, name='model'):\n",
        "    \"\"\"FF-MLP model for Iris classification problem.\"\"\"\n",
        "\n",
        "    # Create model:\n",
        "    model = Sequential(name=name)\n",
        "    # Add Dense -> init_nodes, input_dim=input_dim, activation='relu'\n",
        "    model.add(Dense(init_nodes, input_dim=input_dim, activation='relu'))\n",
        "    # Add Dense -> 2*init_nodes, activation='relu'\n",
        "    model.add(Dense(2*init_nodes, activation='relu'))\n",
        "    # Add Dense -> 3*init_nodes, activation='relu'\n",
        "    model.add(Dense(3*init_nodes, activation='relu'))\n",
        "    # Add Dense -> output_dim, activation='softmax'\n",
        "    model.add(Dense(output_dim, activation='softmax'))\n",
        "\n",
        "    # Compile model:\n",
        "    model.compile(loss='categorical_crossentropy',\n",
        "                  optimizer='adam',\n",
        "                  metrics=['accuracy'])\n",
        "\n",
        "\n",
        "    return model"
      ],
      "metadata": {
        "id": "v9xWPfRgzwTM"
      },
      "execution_count": 34,
      "outputs": []
    },
    {
      "cell_type": "code",
      "source": [
        "model = iris_model(input_dim=4, output_dim=3)\n",
        "model.summary()"
      ],
      "metadata": {
        "colab": {
          "base_uri": "https://localhost:8080/"
        },
        "id": "-05CIAsSC8bl",
        "outputId": "8cfad396-078d-4674-a22a-672e39a7cd59"
      },
      "execution_count": 37,
      "outputs": [
        {
          "output_type": "stream",
          "name": "stdout",
          "text": [
            "Model: \"model\"\n",
            "_________________________________________________________________\n",
            " Layer (type)                Output Shape              Param #   \n",
            "=================================================================\n",
            " dense (Dense)               (None, 4)                 20        \n",
            "                                                                 \n",
            " dense_1 (Dense)             (None, 8)                 40        \n",
            "                                                                 \n",
            " dense_2 (Dense)             (None, 12)                108       \n",
            "                                                                 \n",
            " dense_3 (Dense)             (None, 3)                 39        \n",
            "                                                                 \n",
            "=================================================================\n",
            "Total params: 207 (828.00 Byte)\n",
            "Trainable params: 207 (828.00 Byte)\n",
            "Non-trainable params: 0 (0.00 Byte)\n",
            "_________________________________________________________________\n"
          ]
        }
      ]
    },
    {
      "cell_type": "code",
      "source": [
        "# Set hyperparameters\n",
        "epochs = 10\n",
        "batch = 32\n",
        "\n",
        "# Fit the model\n",
        "history = model.fit(x_train, y_train,\n",
        "                    validation_data=(x_test, y_test),\n",
        "                    verbose=True,\n",
        "                    epochs=epochs, batch_size=batch)"
      ],
      "metadata": {
        "colab": {
          "base_uri": "https://localhost:8080/"
        },
        "id": "1_2shyCaix1N",
        "outputId": "78fe819b-205e-4807-c616-5e0f0f545f3b"
      },
      "execution_count": 38,
      "outputs": [
        {
          "output_type": "stream",
          "name": "stdout",
          "text": [
            "Epoch 1/10\n"
          ]
        },
        {
          "output_type": "stream",
          "name": "stderr",
          "text": [
            "WARNING:tensorflow:AutoGraph could not transform <function Model.make_train_function.<locals>.train_function at 0x7aa7da13d750> and will run it as-is.\n",
            "Please report this to the TensorFlow team. When filing the bug, set the verbosity to 10 (on Linux, `export AUTOGRAPH_VERBOSITY=10`) and attach the full output.\n",
            "Cause: closure mismatch, requested ('self', 'step_function'), but source function had ()\n",
            "To silence this warning, decorate the function with @tf.autograph.experimental.do_not_convert\n"
          ]
        },
        {
          "output_type": "stream",
          "name": "stdout",
          "text": [
            "WARNING: AutoGraph could not transform <function Model.make_train_function.<locals>.train_function at 0x7aa7da13d750> and will run it as-is.\n",
            "Please report this to the TensorFlow team. When filing the bug, set the verbosity to 10 (on Linux, `export AUTOGRAPH_VERBOSITY=10`) and attach the full output.\n",
            "Cause: closure mismatch, requested ('self', 'step_function'), but source function had ()\n",
            "To silence this warning, decorate the function with @tf.autograph.experimental.do_not_convert\n",
            "1/4 [======>.......................] - ETA: 11s - loss: 1.1394 - accuracy: 0.4062"
          ]
        },
        {
          "output_type": "stream",
          "name": "stderr",
          "text": [
            "WARNING:tensorflow:AutoGraph could not transform <function Model.make_test_function.<locals>.test_function at 0x7aa7d8561b40> and will run it as-is.\n",
            "Please report this to the TensorFlow team. When filing the bug, set the verbosity to 10 (on Linux, `export AUTOGRAPH_VERBOSITY=10`) and attach the full output.\n",
            "Cause: closure mismatch, requested ('self', 'step_function'), but source function had ()\n",
            "To silence this warning, decorate the function with @tf.autograph.experimental.do_not_convert\n"
          ]
        },
        {
          "output_type": "stream",
          "name": "stdout",
          "text": [
            "WARNING: AutoGraph could not transform <function Model.make_test_function.<locals>.test_function at 0x7aa7d8561b40> and will run it as-is.\n",
            "Please report this to the TensorFlow team. When filing the bug, set the verbosity to 10 (on Linux, `export AUTOGRAPH_VERBOSITY=10`) and attach the full output.\n",
            "Cause: closure mismatch, requested ('self', 'step_function'), but source function had ()\n",
            "To silence this warning, decorate the function with @tf.autograph.experimental.do_not_convert\n",
            "4/4 [==============================] - 4s 131ms/step - loss: 1.1447 - accuracy: 0.3429 - val_loss: 1.1510 - val_accuracy: 0.3111\n",
            "Epoch 2/10\n",
            "4/4 [==============================] - 0s 18ms/step - loss: 1.1365 - accuracy: 0.3429 - val_loss: 1.1408 - val_accuracy: 0.3111\n",
            "Epoch 3/10\n",
            "4/4 [==============================] - 0s 12ms/step - loss: 1.1293 - accuracy: 0.3429 - val_loss: 1.1327 - val_accuracy: 0.3111\n",
            "Epoch 4/10\n",
            "4/4 [==============================] - 0s 12ms/step - loss: 1.1238 - accuracy: 0.3810 - val_loss: 1.1261 - val_accuracy: 0.3778\n",
            "Epoch 5/10\n",
            "4/4 [==============================] - 0s 19ms/step - loss: 1.1182 - accuracy: 0.3810 - val_loss: 1.1200 - val_accuracy: 0.3778\n",
            "Epoch 6/10\n",
            "4/4 [==============================] - 0s 14ms/step - loss: 1.1131 - accuracy: 0.3905 - val_loss: 1.1138 - val_accuracy: 0.4000\n",
            "Epoch 7/10\n",
            "4/4 [==============================] - 0s 13ms/step - loss: 1.1084 - accuracy: 0.4095 - val_loss: 1.1075 - val_accuracy: 0.4667\n",
            "Epoch 8/10\n",
            "4/4 [==============================] - 0s 19ms/step - loss: 1.1034 - accuracy: 0.4667 - val_loss: 1.1012 - val_accuracy: 0.4889\n",
            "Epoch 9/10\n",
            "4/4 [==============================] - 0s 13ms/step - loss: 1.0980 - accuracy: 0.5333 - val_loss: 1.0948 - val_accuracy: 0.5111\n",
            "Epoch 10/10\n",
            "4/4 [==============================] - 0s 18ms/step - loss: 1.0921 - accuracy: 0.5810 - val_loss: 1.0884 - val_accuracy: 0.5333\n"
          ]
        }
      ]
    },
    {
      "cell_type": "code",
      "source": [
        "# Final evaluation of the model:\n",
        "scores = model.evaluate(x_test, y_test, verbose=1)\n",
        "print(f'Test accuracy: {scores[1]}')"
      ],
      "metadata": {
        "colab": {
          "base_uri": "https://localhost:8080/"
        },
        "id": "J_XW8NWcmqoc",
        "outputId": "073f0980-af9b-4072-d7be-760947c26f13"
      },
      "execution_count": 39,
      "outputs": [
        {
          "output_type": "stream",
          "name": "stdout",
          "text": [
            "2/2 [==============================] - 0s 11ms/step - loss: 1.0884 - accuracy: 0.5333\n",
            "Test accuracy: 0.5333333611488342\n"
          ]
        }
      ]
    },
    {
      "cell_type": "code",
      "source": [
        "scores # (the computed loss value, test accuracy)"
      ],
      "metadata": {
        "colab": {
          "base_uri": "https://localhost:8080/"
        },
        "id": "luZfIO0_m4yB",
        "outputId": "fa657e8c-4207-4da2-d77b-41a651b965f9"
      },
      "execution_count": 40,
      "outputs": [
        {
          "output_type": "execute_result",
          "data": {
            "text/plain": [
              "[1.088437795639038, 0.5333333611488342]"
            ]
          },
          "metadata": {},
          "execution_count": 40
        }
      ]
    },
    {
      "cell_type": "code",
      "source": [
        "def plot_loss(history):\n",
        "    plt.style.use(\"ggplot\")\n",
        "    plt.figure(figsize=(8, 4))\n",
        "    plt.plot(history.history['loss'])\n",
        "    plt.plot(history.history['val_loss'])\n",
        "    plt.title(\"Model's training loss\")\n",
        "    plt.xlabel(\"Epoch #\")\n",
        "    plt.ylabel(\"Loss\")\n",
        "    plt.legend(['Train', 'Test'], loc='upper left')\n",
        "    plt.show()\n",
        "\n",
        "\n",
        "def plot_accuracy(history):\n",
        "    plt.style.use(\"ggplot\")\n",
        "    plt.figure(figsize=(8, 4))\n",
        "    plt.plot(history.history['accuracy'])\n",
        "    plt.plot(history.history['val_accuracy'])\n",
        "    plt.title(\"Model's training accuracy\")\n",
        "    plt.xlabel(\"Epoch #\")\n",
        "    plt.ylabel(\"Accuracy\")\n",
        "    plt.legend(['Train', 'Test'], loc='upper left')\n",
        "    plt.show()"
      ],
      "metadata": {
        "id": "UhcIAYdDngqa"
      },
      "execution_count": 41,
      "outputs": []
    },
    {
      "cell_type": "code",
      "source": [
        "plot_loss(history)\n",
        "plot_accuracy(history)"
      ],
      "metadata": {
        "colab": {
          "base_uri": "https://localhost:8080/",
          "height": 813
        },
        "id": "fdT83Im6o3nl",
        "outputId": "a638dbc8-1bac-4267-be22-ee16ce8f6f21"
      },
      "execution_count": 42,
      "outputs": [
        {
          "output_type": "display_data",
          "data": {
            "text/plain": [
              "<Figure size 800x400 with 1 Axes>"
            ],
            "image/png": "[encoded data removed]"
          },
          "metadata": {}
        },
        {
          "output_type": "display_data",
          "data": {
            "text/plain": [
              "<Figure size 800x400 with 1 Axes>"
            ],
            "image/png": "[encoded data removed]"
          },
          "metadata": {}
        }
      ]
    },
    {
      "cell_type": "code",
      "source": [
        "# Serialize model to JSON:\n",
        "model_json = model.to_json()\n",
        "with open(\"iris_model.json\", \"w\") as json_file:\n",
        "    json_file.write(model_json)\n",
        "\n",
        "# Serialize weights to HDF5 (h5py needed):\n",
        "model.save_weights(\"iris_model.h5\")\n",
        "print(\"Model saved to disk.\")"
      ],
      "metadata": {
        "colab": {
          "base_uri": "https://localhost:8080/"
        },
        "id": "g0lEBZCQo5jU",
        "outputId": "79e86bf0-31d3-4fbf-8406-0cf10bc46f16"
      },
      "execution_count": 43,
      "outputs": [
        {
          "output_type": "stream",
          "name": "stdout",
          "text": [
            "Model saved to disk.\n"
          ]
        }
      ]
    },
    {
      "cell_type": "code",
      "source": [
        "from google.colab import files\n",
        "\n",
        "model_files = ['iris_model.json', 'iris_model.h5']\n",
        "for file in model_files:\n",
        "    files.download(file)"
      ],
      "metadata": {
        "colab": {
          "base_uri": "https://localhost:8080/",
          "height": 17
        },
        "id": "gvhQMpLopGkf",
        "outputId": "0abcd7c9-bf13-4d2b-c56a-1d8531de7144"
      },
      "execution_count": 44,
      "outputs": [
        {
          "output_type": "display_data",
          "data": {
            "text/plain": [
              "<IPython.core.display.Javascript object>"
            ],
            "application/javascript": [
              "\n",
              "    async function download(id, filename, size) {\n",
              "      if (!google.colab.kernel.accessAllowed) {\n",
              "        return;\n",
              "      }\n",
              "      const div = document.createElement('div');\n",
              "      const label = document.createElement('label');\n",
              "      label.textContent = `Downloading \"${filename}\": `;\n",
              "      div.appendChild(label);\n",
              "      const progress = document.createElement('progress');\n",
              "      progress.max = size;\n",
              "      div.appendChild(progress);\n",
              "      document.body.appendChild(div);\n",
              "\n",
              "      const buffers = [];\n",
              "      let downloaded = 0;\n",
              "\n",
              "      const channel = await google.colab.kernel.comms.open(id);\n",
              "      // Send a message to notify the kernel that we're ready.\n",
              "      channel.send({})\n",
              "\n",
              "      for await (const message of channel.messages) {\n",
              "        // Send a message to notify the kernel that we're ready.\n",
              "        channel.send({})\n",
              "        if (message.buffers) {\n",
              "          for (const buffer of message.buffers) {\n",
              "            buffers.push(buffer);\n",
              "            downloaded += buffer.byteLength;\n",
              "            progress.value = downloaded;\n",
              "          }\n",
              "        }\n",
              "      }\n",
              "      const blob = new Blob(buffers, {type: 'application/binary'});\n",
              "      const a = document.createElement('a');\n",
              "      a.href = window.URL.createObjectURL(blob);\n",
              "      a.download = filename;\n",
              "      div.appendChild(a);\n",
              "      a.click();\n",
              "      div.remove();\n",
              "    }\n",
              "  "
            ]
          },
          "metadata": {}
        },
        {
          "output_type": "display_data",
          "data": {
            "text/plain": [
              "<IPython.core.display.Javascript object>"
            ],
            "application/javascript": [
              "download(\"download_250936e8-a182-44db-b661-231211e3a9e6\", \"iris_model.json\", 2886)"
            ]
          },
          "metadata": {}
        },
        {
          "output_type": "display_data",
          "data": {
            "text/plain": [
              "<IPython.core.display.Javascript object>"
            ],
            "application/javascript": [
              "\n",
              "    async function download(id, filename, size) {\n",
              "      if (!google.colab.kernel.accessAllowed) {\n",
              "        return;\n",
              "      }\n",
              "      const div = document.createElement('div');\n",
              "      const label = document.createElement('label');\n",
              "      label.textContent = `Downloading \"${filename}\": `;\n",
              "      div.appendChild(label);\n",
              "      const progress = document.createElement('progress');\n",
              "      progress.max = size;\n",
              "      div.appendChild(progress);\n",
              "      document.body.appendChild(div);\n",
              "\n",
              "      const buffers = [];\n",
              "      let downloaded = 0;\n",
              "\n",
              "      const channel = await google.colab.kernel.comms.open(id);\n",
              "      // Send a message to notify the kernel that we're ready.\n",
              "      channel.send({})\n",
              "\n",
              "      for await (const message of channel.messages) {\n",
              "        // Send a message to notify the kernel that we're ready.\n",
              "        channel.send({})\n",
              "        if (message.buffers) {\n",
              "          for (const buffer of message.buffers) {\n",
              "            buffers.push(buffer);\n",
              "            downloaded += buffer.byteLength;\n",
              "            progress.value = downloaded;\n",
              "          }\n",
              "        }\n",
              "      }\n",
              "      const blob = new Blob(buffers, {type: 'application/binary'});\n",
              "      const a = document.createElement('a');\n",
              "      a.href = window.URL.createObjectURL(blob);\n",
              "      a.download = filename;\n",
              "      div.appendChild(a);\n",
              "      a.click();\n",
              "      div.remove();\n",
              "    }\n",
              "  "
            ]
          },
          "metadata": {}
        },
        {
          "output_type": "display_data",
          "data": {
            "text/plain": [
              "<IPython.core.display.Javascript object>"
            ],
            "application/javascript": [
              "download(\"download_eb91a40a-3f29-4e3b-b33f-4e1bdf5af577\", \"iris_model.h5\", 19392)"
            ]
          },
          "metadata": {}
        }
      ]
    },
    {
      "cell_type": "code",
      "source": [
        "# Load json and create model:\n",
        "from tensorflow.keras.models import model_from_json\n",
        "\n",
        "json_file = open('iris_model.json', 'r')\n",
        "loaded_model_json = json_file.read()\n",
        "json_file.close()\n",
        "loaded_model = model_from_json(loaded_model_json)\n",
        "\n",
        "# Load weights into loaded model:\n",
        "loaded_model.load_weights(\"iris_model.h5\")\n",
        "print(\"Model loaded from disk.\")"
      ],
      "metadata": {
        "colab": {
          "base_uri": "https://localhost:8080/"
        },
        "id": "pCjGJvv3pKgu",
        "outputId": "f245153a-6789-4110-db52-1efc3fb01546"
      },
      "execution_count": 45,
      "outputs": [
        {
          "output_type": "stream",
          "name": "stdout",
          "text": [
            "Model loaded from disk.\n"
          ]
        }
      ]
    },
    {
      "cell_type": "code",
      "source": [
        "# Evaluate loaded model on test data:\n",
        "loaded_model.compile(loss='categorical_crossentropy',\n",
        "                     optimizer='adam',\n",
        "                     metrics=['accuracy'])\n",
        "\n",
        "score = loaded_model.evaluate(x_test, y_test, verbose=1)\n",
        "print(f'Test accuracy: {score[1]}')"
      ],
      "metadata": {
        "colab": {
          "base_uri": "https://localhost:8080/"
        },
        "id": "14igLF6MpP42",
        "outputId": "fdf33525-6c8d-448d-b182-d35ab7697444"
      },
      "execution_count": 46,
      "outputs": [
        {
          "output_type": "stream",
          "name": "stderr",
          "text": [
            "WARNING:tensorflow:AutoGraph could not transform <function Model.make_test_function.<locals>.test_function at 0x7aa7d0592050> and will run it as-is.\n",
            "Please report this to the TensorFlow team. When filing the bug, set the verbosity to 10 (on Linux, `export AUTOGRAPH_VERBOSITY=10`) and attach the full output.\n",
            "Cause: closure mismatch, requested ('self', 'step_function'), but source function had ()\n",
            "To silence this warning, decorate the function with @tf.autograph.experimental.do_not_convert\n"
          ]
        },
        {
          "output_type": "stream",
          "name": "stdout",
          "text": [
            "WARNING: AutoGraph could not transform <function Model.make_test_function.<locals>.test_function at 0x7aa7d0592050> and will run it as-is.\n",
            "Please report this to the TensorFlow team. When filing the bug, set the verbosity to 10 (on Linux, `export AUTOGRAPH_VERBOSITY=10`) and attach the full output.\n",
            "Cause: closure mismatch, requested ('self', 'step_function'), but source function had ()\n",
            "To silence this warning, decorate the function with @tf.autograph.experimental.do_not_convert\n",
            "2/2 [==============================] - 0s 16ms/step - loss: 1.0884 - accuracy: 0.5333\n",
            "Test accuracy: 0.5333333611488342\n"
          ]
        }
      ]
    },
    {
      "cell_type": "code",
      "source": [
        "# Remembering some elements:\n",
        "for element in elements_to_display:\n",
        "    prediction_vector = model.predict(np.array([x[element]]))\n",
        "    print(f\"Element {element}th:\")\n",
        "    print(f\"  - Features: {x[element]}\")\n",
        "    print(f\"  - Target: {y[element]}\")\n",
        "    print(f\"  - Scpecies: {names[np.argmax(y[element])]}\")\n",
        "    print(f\"  - Predicted species: {names[np.argmax(prediction_vector)]}\")\n",
        "    print()"
      ],
      "metadata": {
        "colab": {
          "base_uri": "https://localhost:8080/"
        },
        "id": "o1IE33OspSXY",
        "outputId": "7bc3fc1e-10b4-42aa-e9c2-80da4623a23d"
      },
      "execution_count": 47,
      "outputs": [
        {
          "output_type": "stream",
          "name": "stderr",
          "text": [
            "WARNING:tensorflow:AutoGraph could not transform <function Model.make_predict_function.<locals>.predict_function at 0x7aa7d0591120> and will run it as-is.\n",
            "Please report this to the TensorFlow team. When filing the bug, set the verbosity to 10 (on Linux, `export AUTOGRAPH_VERBOSITY=10`) and attach the full output.\n",
            "Cause: closure mismatch, requested ('self', 'step_function'), but source function had ()\n",
            "To silence this warning, decorate the function with @tf.autograph.experimental.do_not_convert\n"
          ]
        },
        {
          "output_type": "stream",
          "name": "stdout",
          "text": [
            "WARNING: AutoGraph could not transform <function Model.make_predict_function.<locals>.predict_function at 0x7aa7d0591120> and will run it as-is.\n",
            "Please report this to the TensorFlow team. When filing the bug, set the verbosity to 10 (on Linux, `export AUTOGRAPH_VERBOSITY=10`) and attach the full output.\n",
            "Cause: closure mismatch, requested ('self', 'step_function'), but source function had ()\n",
            "To silence this warning, decorate the function with @tf.autograph.experimental.do_not_convert\n",
            "1/1 [==============================] - 0s 119ms/step\n",
            "Element 0th:\n",
            "  - Features: [5.1 3.5 1.4 0.2]\n",
            "  - Target: [1. 0. 0.]\n",
            "  - Scpecies: setosa\n",
            "  - Predicted species: setosa\n",
            "\n",
            "1/1 [==============================] - 0s 22ms/step\n",
            "Element 50th:\n",
            "  - Features: [7.  3.2 4.7 1.4]\n",
            "  - Target: [0. 1. 0.]\n",
            "  - Scpecies: versicolor\n",
            "  - Predicted species: versicolor\n",
            "\n",
            "1/1 [==============================] - 0s 21ms/step\n",
            "Element 100th:\n",
            "  - Features: [6.3 3.3 6.  2.5]\n",
            "  - Target: [0. 0. 1.]\n",
            "  - Scpecies: virginica\n",
            "  - Predicted species: versicolor\n",
            "\n"
          ]
        }
      ]
    }
  ]
}